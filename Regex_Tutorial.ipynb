{
 "cells": [
  {
   "cell_type": "code",
   "execution_count": 26,
   "metadata": {},
   "outputs": [],
   "source": [
    "import requests\n",
    "import re\n",
    "from bs4 import BeautifulSoup"
   ]
  },
  {
   "cell_type": "code",
   "execution_count": null,
   "metadata": {},
   "outputs": [],
   "source": [
    "url = \"https://www.agroinfomedia.com/\"\n"
   ]
  },
  {
   "cell_type": "code",
   "execution_count": null,
   "metadata": {},
   "outputs": [],
   "source": [
    "response = requests.get(url)\n",
    "text_content=response.text\n",
    "print(text_content)"
   ]
  },
  {
   "cell_type": "code",
   "execution_count": null,
   "metadata": {},
   "outputs": [
    {
     "name": "stdout",
     "output_type": "stream",
     "text": [
      "[{'url': 'https://www.agroinfomedia.com/category.php?id=Seeds&&idd=0', 'name': 'Seeds', 'id': '0'}, {'url': 'https://www.agroinfomedia.com/category.php?id=Pestisides&&idd=0', 'name': 'Pestisides', 'id': '0'}, {'url': 'https://www.agroinfomedia.com/category.php?id=Fertilizer&&idd=0', 'name': 'Fertilizer', 'id': '0'}, {'url': 'https://www.agroinfomedia.com/category.php?id=Bio- Products&&idd=0', 'name': 'Bio- Products', 'id': '0'}, {'url': 'https://www.agroinfomedia.com/category.php?id=Irrigation/Spray Pump&&idd=0', 'name': 'Irrigation/Spray Pump', 'id': '0'}, {'url': 'https://www.agroinfomedia.com/category.php?id=Nursery&&idd=0', 'name': 'Nursery', 'id': '0'}, {'url': 'https://www.agroinfomedia.com/category.php?id=Agro Machinery&&idd=0', 'name': 'Agro Machinery', 'id': '0'}, {'url': 'https://www.agroinfomedia.com/category.php?id=Packaging&&idd=0', 'name': 'Packaging', 'id': '0'}, {'url': 'https://www.agroinfomedia.com/category.php?id=Other Services&&idd=0', 'name': 'Other Services', 'id': '0'}, {'url': 'https://www.agroinfomedia.com/category.php?id=Distributor/Dealer&&idd=0', 'name': 'Distributor/Dealer', 'id': '0'}]\n"
     ]
    }
   ],
   "source": [
    "\n",
    "product_json=[]\n",
    "\n",
    "matches = re.findall(r'height\\=\\\"23\\\"><div align=\"left\"><a href\\=\\\"(category\\.php\\?id\\=(.*?)\\&amp\\;\\&amp\\;idd\\=(.*?))\\\"',text_content)\n",
    "for i in matches:\n",
    "    modified_data=[i[0].replace('&amp;','&'),i[1],i[2]]\n",
    "    product_url=url+modified_data[0]\n",
    "    products=modified_data[1]\n",
    "    products_id=modified_data[2]\n",
    "    product_json.append({\"url\":product_url,\n",
    "                         \"name\":products,\n",
    "                         \"id\":products_id})\n",
    "print(product_json)\n",
    "\n",
    "    "
   ]
  },
  {
   "cell_type": "code",
   "execution_count": 51,
   "metadata": {},
   "outputs": [
    {
     "name": "stdout",
     "output_type": "stream",
     "text": [
      "Request0\n",
      "Request1\n",
      "Request2\n",
      "Request3\n",
      "Request4\n",
      "Request5\n",
      "Request6\n",
      "Request7\n",
      "Request8\n",
      "Request9\n",
      "Request0\n",
      "Request1\n",
      "Request2\n",
      "Request3\n",
      "Request4\n",
      "Request5\n",
      "Request6\n",
      "Request7\n",
      "Request8\n",
      "Request9\n",
      "Request0\n",
      "Request1\n",
      "Request2\n",
      "Request3\n",
      "Request4\n",
      "Request5\n",
      "Request6\n",
      "Request7\n",
      "Request8\n",
      "Request9\n",
      "Request0\n",
      "Request1\n",
      "Request2\n",
      "Request3\n",
      "Request4\n",
      "Request5\n",
      "Request6\n",
      "Request7\n",
      "Request8\n",
      "Request9\n",
      "Request0\n",
      "Request1\n",
      "Request2\n",
      "Request3\n",
      "Request4\n",
      "Request5\n",
      "Request6\n",
      "Request7\n",
      "Request8\n",
      "Request9\n",
      "Request0\n",
      "Request1\n",
      "Request2\n",
      "Request3\n",
      "Request4\n",
      "Request5\n",
      "Request6\n",
      "Request7\n",
      "Request8\n",
      "Request9\n",
      "Request0\n",
      "Request1\n",
      "Request2\n",
      "Request3\n",
      "Request4\n",
      "Request5\n",
      "Request6\n",
      "Request7\n",
      "Request8\n",
      "Request9\n",
      "Request0\n",
      "Request1\n",
      "Request2\n",
      "Request3\n",
      "Request4\n",
      "Request5\n",
      "Request6\n",
      "Request7\n",
      "Request8\n",
      "Request9\n",
      "Request0\n",
      "Request1\n",
      "Request2\n",
      "Request3\n",
      "Request4\n",
      "Request5\n",
      "Request6\n",
      "Request7\n",
      "Request8\n",
      "Request9\n",
      "Request0\n",
      "Request1\n",
      "Request2\n",
      "Request3\n",
      "Request4\n",
      "Request5\n",
      "Request6\n",
      "Request7\n",
      "Request8\n",
      "Request9\n"
     ]
    }
   ],
   "source": [
    "shop_category=[]\n",
    "\n",
    "for i in product_json:\n",
    "    shop_names=[]\n",
    "    for j in range(0,10):\n",
    "        product_url=f'https://www.agroinfomedia.com/category.php?id={i['name']}&&idd={j}'\n",
    "        response = requests.get(product_url)\n",
    "        soup=BeautifulSoup(response.text,'html.parser')\n",
    "        d=soup.find('td',{'class':'style69'}).get_text().replace(\"\\xa0\", \" \")\n",
    "        print(f'Request{j}')\n",
    "        shop_names.append(d)\n",
    "    shop_category.append({i['name']:shop_names}) "
   ]
  },
  {
   "cell_type": "code",
   "execution_count": 52,
   "metadata": {},
   "outputs": [
    {
     "name": "stdout",
     "output_type": "stream",
     "text": [
      "{'Seeds': [' DHANYA LAXMI DHANYA VITHANA RAITHU  PARASPARA SAHAKARA PARIMITHA SANGAM   ,   Karimnagar', ' DHARMARAJPALLY DHANYA VITHANA RAITHU  PARASPARA SAHAKARA PARIMIDHA SANGAM   ,   Karimnagar', ' KRISHIDHAN SEEDS LIMITED   ,   Hyderabad', '#adidasXW9c   ,   ', 'A-ONE AGRO PRODUCTS (SUPRABHAT SEEDS)   ,   Hisar', 'A.G.R. SEEDS PVT.LTD   ,   Delhi', 'A.K.S. SEEDS FARM   ,   Jaunpur', 'A.K.SEEDS FARM   ,   Jaunpur', 'AADHAAR SEEDS PVT LTD   ,   Hyderabad', 'AAKASH SEEDS CORPORATION   ,   Hyderabad']}\n",
      "{'Pestisides': [' AGRO TECH(P)Ltd   ,   Ahmedabad', ' ANNPURNA HYBRID SEEDS    ,   Hanumangarh', ' APPLE CROP PROTECTION (I) PVT.LTD.    ,   Ahmedabad', ' ASIM PRODUCT    ,   Ahmedabad', ' BHARAT AGRO SERVICES                                                 ,   Nashik', ' CROP LIFE SCIENCE LTD    ,   Ahmedabad', ' DANTIWADA SEED PVT.LTD.   ,   Ahmedabad', ' DAVE�S SEEDS HOUSE    ,   Bharuch', ' DAYAL ENGINEERING     ,   Ahmedabad', ' DEV BIO INTERNATIONAL    ,   Ahmedabad']}\n",
      "{'Fertilizer': [' focus biotech   ,   Mumbai City', ' Rama Phosphate   ,   Mumbai City', ' Suman Organics & Fertilizers Pvt Ltd   ,   Indore', 'AATEYAS  AGRO ORGANIC  PVT.LTD   ,   ', 'ABHAY-CHEM   ,   Surat', 'ABIS BIO ORGANICS   ,   Rajnandgaon', 'ABSOLUTE SPECIALITY CHEMICALS   ,   Ahmedabad', 'Absoulte Speciality Chemicals   ,   Ahmedabad', 'ADNAN NAZMI   ,   Gurgaon', 'ADS AGROTECH PVT.LTD   ,   Ghaziabad']}\n",
      "{'Bio- Products': [' focus biotech   ,   Mumbai City', ' Rama Phosphate   ,   Mumbai City', ' Suman Organics & Fertilizers Pvt Ltd   ,   Indore', 'AARADHNA CROP CARE   ,   Bhavnagar', 'ABHAY-CHEM   ,   Surat', 'ACCURATE CROP CARE PVT.LTD   ,   Ahmedabad', 'Acurate Crop Care Pvt Ltd   ,   Ahmedabad', 'ADNAN NAZMI   ,   Gurgaon', 'AgrEstadt Crop Science   ,   Bharuch', 'Agri India Biocare   ,   Ahmedabad']}\n",
      "{'Irrigation/Spray Pump': [' AUTO ELECTRO MFG.CO.     ,   Vadodara', 'Aries Agro Limited   ,   Ahmedabad', 'ASPEE AGRO EQUIPMENT PVT.LTD   ,   Mumbai City', 'Auto Electro Mfg.co.   ,   Vadodara', 'Avinash Seeds   ,   Ahmedabad', 'BAHUCHAR SALES AGENCY   ,   Ahmedabad', 'BHARAT AGRICULTURE ENTERPRISE   ,   Ahmedabad', \"Bhumi seed's and fertilizer   ,   Bhavnagar\", 'BHUVNESHAWRI TARDING AGENCY   ,   Navsari', 'BRENA IRRIGATION PVT. LTD.   ,   Surendranagar']}\n",
      "{'Nursery': [' Nandini Agro Shed Nets Pvt. Ltd   ,   Bharuch', 'A.G. Horticultur Nursery & Farm   ,   Mehsana', 'Agri Care Consultuncy & Agri Care Farm And Nursery   ,   Navsari', 'AGRO-TECH   ,   Anand', 'AKTA NURSERY & FARM   ,   Anand', 'Alka Farm & Bilimora Nursery   ,   Navsari', 'Amba Agro Tech   ,   Ahmedabad', 'AMBICA NURSERY & FARM   ,   Anand', 'AMBIK PLANT PROTECTION & RAJVI AGRO SERVICES   ,   Ahmedabad', 'AMIDHARA NURSERY   ,   Junagadh']}\n",
      "{'Agro Machinery': ['Avinash Seeds   ,   Ahmedabad', 'DHARTI AGRO INDUSTRIES   ,   Sabarkantha', 'Ganesh Agro Equipment    ,   Mehsana', 'JAY AGRO MACHINERY   ,   Ahmedabad', 'Kama Kapil sales   ,   Ahmedabad', 'KIRAN CORPORATION    ,   Mehsana', 'KISAN THRESHER   ,   Mehsana', 'KRISHISEVA   ,   Ahmedabad', 'KRISHISEVA   ,   Ahmedabad', 'maruti power project & pannels   ,   Patan']}\n",
      "{'Packaging': [' SIEMENS INDUTRIES       ,   Ahmedabad', 'Aasha Intertrade Pvt.Ltd.   ,   Ahmedabad', 'Abrar Brothers And Company    ,   Aurangabad', 'Adarsh Theli Udhyog   ,   Ahmedabad', 'Adarsh Thely Udhyog   ,   Ahmedabad', 'AGRINOVA BIO CARE    ,   Ahmedabad', 'Agro Incorporation   ,   Ahmedabad', 'AGRO INCORPORATION   ,   Ahmedabad', 'AKSHAY ENGINEERING   ,   Ahmedabad', 'ALKA ENTERPRISE   ,   Ahmedabad']}\n",
      "{'Other Services': ['Abrar Brothers And Company    ,   Aurangabad', 'Adarsh Theli Udhyog   ,   Ahmedabad', 'Adarsh Thely Udhyog   ,   Ahmedabad', 'Agro Incorporation   ,   Ahmedabad', 'AGRO INCORPORATION   ,   Ahmedabad', 'Amin Enterprise   ,   Ahmedabad', 'ANAR PLASTICS   ,   Ahmedabad', 'Balram Agro Centre   ,   ', 'BHAGWATI CHEMICALS   ,   Vadodara', 'Bhagwati Chemicals   ,   Vadodara']}\n",
      "{'Distributor/Dealer': ['AMBIK PLANT PROTECTION & RAJVI AGRO SERVICES   ,   Ahmedabad', 'Ambik Plant Protection And Rajvi Agro Services   ,   Ahmedabad', \"Bhumi seed's and fertilizer   ,   Bhavnagar\", 'DHARATI AGRO ENGINEERING   ,   Rajkot', 'Gholap Agro Services   ,   Nashik', 'HAPPY SEED   ,   Kheda', 'Hariyali    ,   Navsari', 'HARIYALI THE STOP DESTINATTON FOR ALL AGRI INPUTS   ,   Navsari', 'Hitech Seeds & Irrigation   ,   Bhavnagar', 'Jaj Bharat Agro Seeds   ,   Sabarkantha']}\n"
     ]
    }
   ],
   "source": [
    "for category in shop_category:\n",
    "    print(category)"
   ]
  }
 ],
 "metadata": {
  "kernelspec": {
   "display_name": "Python 3",
   "language": "python",
   "name": "python3"
  },
  "language_info": {
   "codemirror_mode": {
    "name": "ipython",
    "version": 3
   },
   "file_extension": ".py",
   "mimetype": "text/x-python",
   "name": "python",
   "nbconvert_exporter": "python",
   "pygments_lexer": "ipython3",
   "version": "3.12.0"
  }
 },
 "nbformat": 4,
 "nbformat_minor": 2
}
